{
 "cells": [
  {
   "cell_type": "code",
   "execution_count": 206,
   "id": "076ff941",
   "metadata": {},
   "outputs": [],
   "source": [
    "import numpy as np\n",
    "import pandas as pd\n",
    "import matplotlib.pyplot as plt\n",
    "import re\n",
    "from datetime import datetime\n",
    "import seaborn as sns"
   ]
  },
  {
   "cell_type": "code",
   "execution_count": 207,
   "id": "f41a4ecf",
   "metadata": {},
   "outputs": [
    {
     "data": {
      "text/html": [
       "<div>\n",
       "<style scoped>\n",
       "    .dataframe tbody tr th:only-of-type {\n",
       "        vertical-align: middle;\n",
       "    }\n",
       "\n",
       "    .dataframe tbody tr th {\n",
       "        vertical-align: top;\n",
       "    }\n",
       "\n",
       "    .dataframe thead th {\n",
       "        text-align: right;\n",
       "    }\n",
       "</style>\n",
       "<table border=\"1\" class=\"dataframe\">\n",
       "  <thead>\n",
       "    <tr style=\"text-align: right;\">\n",
       "      <th></th>\n",
       "      <th>Date</th>\n",
       "      <th>Open</th>\n",
       "      <th>High</th>\n",
       "      <th>Low</th>\n",
       "      <th>Close</th>\n",
       "      <th>Adj Close</th>\n",
       "      <th>Volume</th>\n",
       "    </tr>\n",
       "  </thead>\n",
       "  <tbody>\n",
       "    <tr>\n",
       "      <th>0</th>\n",
       "      <td>2019-01-01</td>\n",
       "      <td>5200.0</td>\n",
       "      <td>5200.0</td>\n",
       "      <td>5200.0</td>\n",
       "      <td>5200.0</td>\n",
       "      <td>47.365.439.453.125</td>\n",
       "      <td>0</td>\n",
       "    </tr>\n",
       "    <tr>\n",
       "      <th>1</th>\n",
       "      <td>2019-01-02</td>\n",
       "      <td>5200.0</td>\n",
       "      <td>5245.0</td>\n",
       "      <td>5200.0</td>\n",
       "      <td>5240.0</td>\n",
       "      <td>477.297.900.390.625</td>\n",
       "      <td>35956000</td>\n",
       "    </tr>\n",
       "    <tr>\n",
       "      <th>2</th>\n",
       "      <td>2019-01-03</td>\n",
       "      <td>5200.0</td>\n",
       "      <td>5220.0</td>\n",
       "      <td>5115.0</td>\n",
       "      <td>5180.0</td>\n",
       "      <td>471.832.666.015.625</td>\n",
       "      <td>72358000</td>\n",
       "    </tr>\n",
       "    <tr>\n",
       "      <th>3</th>\n",
       "      <td>2019-01-04</td>\n",
       "      <td>5175.0</td>\n",
       "      <td>5205.0</td>\n",
       "      <td>5125.0</td>\n",
       "      <td>5205.0</td>\n",
       "      <td>474.109.765.625</td>\n",
       "      <td>51465000</td>\n",
       "    </tr>\n",
       "    <tr>\n",
       "      <th>4</th>\n",
       "      <td>2019-01-07</td>\n",
       "      <td>5265.0</td>\n",
       "      <td>5325.0</td>\n",
       "      <td>5245.0</td>\n",
       "      <td>5245.0</td>\n",
       "      <td>4.777.533.203.125</td>\n",
       "      <td>73438000</td>\n",
       "    </tr>\n",
       "    <tr>\n",
       "      <th>...</th>\n",
       "      <td>...</td>\n",
       "      <td>...</td>\n",
       "      <td>...</td>\n",
       "      <td>...</td>\n",
       "      <td>...</td>\n",
       "      <td>...</td>\n",
       "      <td>...</td>\n",
       "    </tr>\n",
       "    <tr>\n",
       "      <th>1246</th>\n",
       "      <td>2024-01-22</td>\n",
       "      <td>9600.0</td>\n",
       "      <td>9650.0</td>\n",
       "      <td>9525.0</td>\n",
       "      <td>9625.0</td>\n",
       "      <td>9625.0</td>\n",
       "      <td>52868300</td>\n",
       "    </tr>\n",
       "    <tr>\n",
       "      <th>1247</th>\n",
       "      <td>2024-01-23</td>\n",
       "      <td>9450.0</td>\n",
       "      <td>9600.0</td>\n",
       "      <td>9450.0</td>\n",
       "      <td>9600.0</td>\n",
       "      <td>9600.0</td>\n",
       "      <td>92348600</td>\n",
       "    </tr>\n",
       "    <tr>\n",
       "      <th>1248</th>\n",
       "      <td>2024-01-24</td>\n",
       "      <td>9600.0</td>\n",
       "      <td>9600.0</td>\n",
       "      <td>9475.0</td>\n",
       "      <td>9525.0</td>\n",
       "      <td>9525.0</td>\n",
       "      <td>84906000</td>\n",
       "    </tr>\n",
       "    <tr>\n",
       "      <th>1249</th>\n",
       "      <td>2024-01-25</td>\n",
       "      <td>9450.0</td>\n",
       "      <td>9575.0</td>\n",
       "      <td>9450.0</td>\n",
       "      <td>9500.0</td>\n",
       "      <td>9500.0</td>\n",
       "      <td>63212700</td>\n",
       "    </tr>\n",
       "    <tr>\n",
       "      <th>1250</th>\n",
       "      <td>2024-01-26</td>\n",
       "      <td>9400.0</td>\n",
       "      <td>9450.0</td>\n",
       "      <td>9300.0</td>\n",
       "      <td>9350.0</td>\n",
       "      <td>9350.0</td>\n",
       "      <td>78977300</td>\n",
       "    </tr>\n",
       "  </tbody>\n",
       "</table>\n",
       "<p>1251 rows × 7 columns</p>\n",
       "</div>"
      ],
      "text/plain": [
       "            Date    Open    High     Low   Close            Adj Close  \\\n",
       "0     2019-01-01  5200.0  5200.0  5200.0  5200.0   47.365.439.453.125   \n",
       "1     2019-01-02  5200.0  5245.0  5200.0  5240.0  477.297.900.390.625   \n",
       "2     2019-01-03  5200.0  5220.0  5115.0  5180.0  471.832.666.015.625   \n",
       "3     2019-01-04  5175.0  5205.0  5125.0  5205.0      474.109.765.625   \n",
       "4     2019-01-07  5265.0  5325.0  5245.0  5245.0    4.777.533.203.125   \n",
       "...          ...     ...     ...     ...     ...                  ...   \n",
       "1246  2024-01-22  9600.0  9650.0  9525.0  9625.0               9625.0   \n",
       "1247  2024-01-23  9450.0  9600.0  9450.0  9600.0               9600.0   \n",
       "1248  2024-01-24  9600.0  9600.0  9475.0  9525.0               9525.0   \n",
       "1249  2024-01-25  9450.0  9575.0  9450.0  9500.0               9500.0   \n",
       "1250  2024-01-26  9400.0  9450.0  9300.0  9350.0               9350.0   \n",
       "\n",
       "        Volume  \n",
       "0            0  \n",
       "1     35956000  \n",
       "2     72358000  \n",
       "3     51465000  \n",
       "4     73438000  \n",
       "...        ...  \n",
       "1246  52868300  \n",
       "1247  92348600  \n",
       "1248  84906000  \n",
       "1249  63212700  \n",
       "1250  78977300  \n",
       "\n",
       "[1251 rows x 7 columns]"
      ]
     },
     "execution_count": 207,
     "metadata": {},
     "output_type": "execute_result"
    }
   ],
   "source": [
    "#Importation du donner brute\n",
    "data = pd.read_csv(\"datasets/BBCA.JK new.csv\")\n",
    "data"
   ]
  },
  {
   "cell_type": "code",
   "execution_count": 208,
   "id": "1a4a4523",
   "metadata": {},
   "outputs": [],
   "source": [
    "# il y a deux close donc j'ai preferer supprimer celui ci\n",
    "data = data.drop(\"Adj Close\",axis=1)\n"
   ]
  },
  {
   "cell_type": "code",
   "execution_count": 209,
   "id": "ac2a56a1",
   "metadata": {},
   "outputs": [],
   "source": [
    "\"\"\" Il y a plusieur donner avant et de commencer le EDA il vaut mieux regrouper le donner par mois et semaine\"\"\"\n",
    "data[\"Date\"] = pd.to_datetime(data[\"Date\"])\n",
    "data_month = data.groupby(data[\"Date\"].dt.to_period(\"M\")).sum().reset_index()\n",
    "data_week = data.resample(\"W-Mon\",on=\"Date\").sum().reset_index()\n"
   ]
  },
  {
   "cell_type": "code",
   "execution_count": 210,
   "id": "a71dc232",
   "metadata": {},
   "outputs": [
    {
     "name": "stdout",
     "output_type": "stream",
     "text": [
      "Date      period[M]\n",
      "Open        float64\n",
      "High        float64\n",
      "Low         float64\n",
      "Close       float64\n",
      "Volume        int64\n",
      "dtype: object\n",
      "(61, 6)\n",
      "Date      0\n",
      "Open      0\n",
      "High      0\n",
      "Low       0\n",
      "Close     0\n",
      "Volume    0\n",
      "dtype: int64\n"
     ]
    }
   ],
   "source": [
    "                                                    \"\"\" EDA de data mensuel \"\"\"\n",
    "\"\"\" Analyse de de form: -la target est le Close\n",
    "                        - il y a 61 ligne et 6 colonne\n",
    "                        - il y a  5 float et 1 datetime\n",
    "\n",
    "\"\"\"\n",
    "print(data_month.dtypes)\n",
    "print(data_month.shape)\n",
    "print(data_month.isnull().sum())\n"
   ]
  },
  {
   "cell_type": "code",
   "execution_count": 211,
   "id": "5954755f",
   "metadata": {},
   "outputs": [
    {
     "data": {
      "image/png": "[encoded data removed]",
      "text/plain": [
       "<Figure size 640x480 with 1 Axes>"
      ]
     },
     "metadata": {},
     "output_type": "display_data"
    }
   ],
   "source": [
    "\"\"\" Analyse de fond:\n",
    "                     - open : represent l'ouverture des prix\n",
    "                     - High : represent le hausse des prix\n",
    "                     - Low : represent la valeur le plus faible\n",
    "                     - volume : les transaction faite\n",
    "on remarque que ces variable sont un peu semblage donc on peut en tirer le meilleur histogramme en representant la date et le close\n",
    "\n",
    "\n",
    "\n",
    "\"\"\"\n",
    "data_month['Date'] = data_month['Date'].dt.to_timestamp()\n",
    "plt.plot(data_month[\"Date\"],data_month[\"Close\"],marker=\".\")\n",
    "plt.xlabel('Date')\n",
    "plt.ylabel('Closing Price')\n",
    "plt.show()\n"
   ]
  },
  {
   "cell_type": "code",
   "execution_count": 184,
   "id": "a7cac923",
   "metadata": {},
   "outputs": [
    {
     "data": {
      "text/plain": [
       "Open      0.999876\n",
       "High      0.999717\n",
       "Low       0.999874\n",
       "Close     1.000000\n",
       "Volume   -0.040827\n",
       "Year      0.747379\n",
       "month     0.205476\n",
       "Name: Close, dtype: float64"
      ]
     },
     "execution_count": 184,
     "metadata": {},
     "output_type": "execute_result"
    }
   ],
   "source": [
    "\"\"\" ce sont les valeur anner et mois ainsi que les valeur correler \n",
    "on peut en deduire que tous les carateristique sont correler au Close sauf month et le volume\n",
    "\"\"\"\n",
    "data_month[\"Year\"] = data_month[\"Date\"].dt.year\n",
    "data_month[\"month\"] = data_month[\"Date\"].dt.month\n",
    "data_month.corr()[\"Close\"]"
   ]
  },
  {
   "cell_type": "code",
   "execution_count": 192,
   "id": "17be761a",
   "metadata": {},
   "outputs": [],
   "source": [
    "from sklearn.linear_model import LinearRegression\n",
    "from sklearn.model_selection import train_test_split\n",
    "from sklearn.model_selection import learning_curve,GridSearchCV\n",
    "from sklearn.preprocessing import StandardScaler,PolynomialFeatures\n",
    "from sklearn.pipeline import make_pipeline\n",
    "from sklearn.metrics import f1_score, mean_squared_error, r2_score,mean_absolute_error\n",
    "from sklearn.ensemble import RandomForestRegressor"
   ]
  },
  {
   "cell_type": "code",
   "execution_count": 186,
   "id": "4a2e8b21",
   "metadata": {},
   "outputs": [],
   "source": [
    "                                    \"\"\"Preprocessing\"\"\"\n",
    "\"\"\" on separer les donner en deux categories train et test qui est 80% pour le train et 20% pour le test\"\"\"\n",
    "train_set,test_set = train_test_split(data_month,test_size = 0.2,random_state=0)\n"
   ]
  },
  {
   "cell_type": "code",
   "execution_count": 212,
   "id": "82f149bc",
   "metadata": {},
   "outputs": [],
   "source": [
    "def preprocessing(data_month):\n",
    "    y = data_month[\"Close\"]\n",
    "    x = data_month.drop([\"Date\",\"Close\"],axis=1)\n",
    "    return x,y\n"
   ]
  },
  {
   "cell_type": "code",
   "execution_count": 187,
   "id": "cec61672",
   "metadata": {},
   "outputs": [],
   "source": [
    "x_train,y_train = preprocessing(train_set)\n",
    "x_test,y_test = preprocessing(test_set)"
   ]
  },
  {
   "cell_type": "code",
   "execution_count": 188,
   "id": "edcf99e4",
   "metadata": {},
   "outputs": [],
   "source": []
  },
  {
   "cell_type": "code",
   "execution_count": 193,
   "id": "9a67e5d6",
   "metadata": {},
   "outputs": [],
   "source": [
    "                                        \"\"\"Model\"\"\"\n",
    "model = make_pipeline(StandardScaler(),RandomForestRegressor(n_estimators=1000, max_depth=5, random_state=42))\n"
   ]
  },
  {
   "cell_type": "code",
   "execution_count": 196,
   "id": "e3fe8581",
   "metadata": {},
   "outputs": [],
   "source": [
    "def evaluation(model):\n",
    "    model.fit(x_train,y_train)\n",
    "    y_predict = model.predict(x_test)\n",
    "    print(model.score(x_test,y_test))\n",
    "    \n",
    "    err = np.abs(y_test-y_predict)\n",
    "    \n",
    "    mse = mean_squared_error(y_test, y_predict)\n",
    "    print(\"Mean Squared Error:\", mse)\n",
    "    \n",
    "    # Utiliser R^2 pour évaluer la performance\n",
    "    r2 = r2_score(y_test, y_predict)\n",
    "    print(\"R^2 Score:\", r2)\n",
    "    mse = mean_squared_error(y_test, y_predict)\n",
    "    print(\"Mean Squared Error (MSE):\", mse)\n",
    "\n",
    "    # Calculer l'erreur absolue moyenne (MAE)\n",
    "    mae = mean_absolute_error(y_test, y_predict)\n",
    "    print(\"Mean Absolute Error (MAE):\", mae)\n",
    "    plt.hist(err,bins=50)"
   ]
  },
  {
   "cell_type": "code",
   "execution_count": 197,
   "id": "7f40da83",
   "metadata": {},
   "outputs": [
    {
     "name": "stdout",
     "output_type": "stream",
     "text": [
      "0.9947192855195051\n",
      "Mean Squared Error: 2808019.0000970056\n",
      "R^2 Score: 0.9947192855195051\n",
      "Mean Squared Error (MSE): 2808019.0000970056\n",
      "Mean Absolute Error (MAE): 1230.6347004800862\n"
     ]
    },
    {
     "data": {
      "image/png": "[encoded data removed]",
      "text/plain": [
       "<Figure size 640x480 with 1 Axes>"
      ]
     },
     "metadata": {},
     "output_type": "display_data"
    }
   ],
   "source": [
    "#ici on peut conclure que notre model peut predir 0.99 \n",
    "evaluation(model)"
   ]
  },
  {
   "cell_type": "code",
   "execution_count": null,
   "id": "d5db93eb",
   "metadata": {},
   "outputs": [],
   "source": []
  },
  {
   "cell_type": "code",
   "execution_count": null,
   "id": "fecd6679",
   "metadata": {},
   "outputs": [],
   "source": []
  },
  {
   "cell_type": "code",
   "execution_count": null,
   "id": "352add0e",
   "metadata": {},
   "outputs": [],
   "source": []
  },
  {
   "cell_type": "code",
   "execution_count": null,
   "id": "2382b711",
   "metadata": {},
   "outputs": [],
   "source": []
  }
 ],
 "metadata": {
  "kernelspec": {
   "display_name": "Python 3 (ipykernel)",
   "language": "python",
   "name": "python3"
  },
  "language_info": {
   "codemirror_mode": {
    "name": "ipython",
    "version": 3
   },
   "file_extension": ".py",
   "mimetype": "text/x-python",
   "name": "python",
   "nbconvert_exporter": "python",
   "pygments_lexer": "ipython3",
   "version": "3.9.13"
  }
 },
 "nbformat": 4,
 "nbformat_minor": 5
}
